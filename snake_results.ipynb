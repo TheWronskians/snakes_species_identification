{
 "cells": [
  {
   "cell_type": "code",
   "execution_count": 1,
   "metadata": {},
   "outputs": [],
   "source": [
    "import pickle\n",
    "import numpy as np\n",
    "from sklearn.metrics import cohen_kappa_score as cohen\n",
    "from sklearn.metrics import precision_score as precision\n",
    "from sklearn.metrics import accuracy_score as accuracy\n",
    "from sklearn.metrics import recall_score as recall\n",
    "from sklearn.metrics import f1_score as f1_score\n",
    "import matplotlib.pyplot as plt\n",
    "import seaborn as sns\n",
    "import pandas as pd"
   ]
  },
  {
   "cell_type": "code",
   "execution_count": 2,
   "metadata": {},
   "outputs": [],
   "source": [
    "with open('Snake/prediction/y_real_class', 'rb') as f:\n",
    "    y_real = pickle.load(f)"
   ]
  },
  {
   "cell_type": "code",
   "execution_count": 3,
   "metadata": {},
   "outputs": [],
   "source": [
    "with open('Snake/prediction/y_predict_full_vgg_transforms', 'rb') as f:\n",
    "    y_predict_full_vgg_transforms = pickle.load(f)\n",
    "with open('Snake/prediction/y_predict_correct_resnet_full_rotated', 'rb') as f:\n",
    "    y_predict_resnet_rotated = pickle.load(f)\n",
    "with open('Snake/prediction/y_predict_correct_resnet_full_non', 'rb') as f:\n",
    "    y_predict_resnet = pickle.load(f)\n",
    "with open('Snake/prediction/y_predict_vgg_freeze_rotate', 'rb') as f:\n",
    "    y_predict_vgg_freeze_rotate = pickle.load(f)\n",
    "with open('Snake/prediction/y_predict_vgg', 'rb') as f:\n",
    "    y_predict_vgg = pickle.load(f)\n",
    "with open('Snake/prediction/y_predict_efficient_non_transform', 'rb') as f:\n",
    "    y_predict_efficient_non_transform = pickle.load(f)\n",
    "with open('Snake/prediction/y_predict_resnet_freeze_rotate', 'rb') as f:\n",
    "    y_predict_resnet_freeze_rotate = pickle.load(f)\n",
    "with open('Snake/prediction/y_predict_freeze_resnet', 'rb') as f:\n",
    "    y_predict_freeze_resnet = pickle.load(f)\n",
    "with open('Snake/prediction/y_predict_efficient_transform', 'rb') as f:\n",
    "    y_predict_efficient_transform = pickle.load(f)\n",
    "with open('Snake/prediction/y_predict_vgg_full_non', 'rb') as f:\n",
    "    y_predict_vgg_full_non = pickle.load(f)    "
   ]
  },
  {
   "cell_type": "markdown",
   "metadata": {},
   "source": [
    "# Accuracy "
   ]
  },
  {
   "cell_type": "code",
   "execution_count": 4,
   "metadata": {},
   "outputs": [
    {
     "name": "stdout",
     "output_type": "stream",
     "text": [
      "ACCURACY\n",
      "------------------------------------------------------------------\n",
      "vgg_full_rotate: 0.1342505606400388\n",
      "------------------------------------------------------------------\n",
      "resent_full_rotate: 0.34050548518092005\n",
      "------------------------------------------------------------------\n",
      "resent_full: 0.34565731256439786\n",
      "------------------------------------------------------------------\n",
      "vgg_freeze_rotate: 0.28941147948360507\n",
      "------------------------------------------------------------------\n",
      "vgg_freeze: 0.33238378083520215\n",
      "------------------------------------------------------------------\n",
      "efficient: 0.5659130856415541\n",
      "------------------------------------------------------------------\n",
      "resnet_freeze_rotate: 0.302745620946724\n",
      "------------------------------------------------------------------\n",
      "resnet_freeze: 0.26383417176798596\n",
      "------------------------------------------------------------------\n",
      "efficient_rotate: 0.6534941511606764\n",
      "------------------------------------------------------------------\n",
      "vgg_full: 0.1342505606400388\n",
      "------------------------------------------------------------------\n"
     ]
    }
   ],
   "source": [
    "print('ACCURACY')\n",
    "print('------------------------------------------------------------------')\n",
    "vgg_full_rotate = accuracy(y_real, y_predict_full_vgg_transforms)\n",
    "print('vgg_full_rotate:', vgg_full_rotate)\n",
    "print('------------------------------------------------------------------')\n",
    "resent_full_rotate = accuracy(y_real, y_predict_resnet_rotated)\n",
    "print('resent_full_rotate:', resent_full_rotate)\n",
    "print('------------------------------------------------------------------')\n",
    "resent_full = accuracy(y_real, y_predict_resnet)\n",
    "print('resent_full:', resent_full)\n",
    "print('------------------------------------------------------------------')\n",
    "vgg_freeze_rotate = accuracy(y_real, y_predict_vgg_freeze_rotate)\n",
    "print('vgg_freeze_rotate:', vgg_freeze_rotate)\n",
    "print('------------------------------------------------------------------')\n",
    "vgg_freeze = accuracy(y_real, y_predict_vgg)\n",
    "print('vgg_freeze:', vgg_freeze)\n",
    "print('------------------------------------------------------------------')\n",
    "efficient = accuracy(y_real, y_predict_efficient_non_transform)\n",
    "print('efficient:', efficient)\n",
    "print('------------------------------------------------------------------')\n",
    "resnet_freeze_rotate = accuracy(y_real, y_predict_resnet_freeze_rotate)\n",
    "print('resnet_freeze_rotate:', resnet_freeze_rotate)\n",
    "print('------------------------------------------------------------------')\n",
    "resnet_freeze = accuracy(y_real, y_predict_freeze_resnet)\n",
    "print('resnet_freeze:', resnet_freeze)\n",
    "print('------------------------------------------------------------------')\n",
    "efficient_rotate = accuracy(y_real, y_predict_efficient_transform)\n",
    "print('efficient_rotate:', efficient_rotate)\n",
    "print('------------------------------------------------------------------')\n",
    "vgg_full = accuracy(y_real, y_predict_vgg_full_non)\n",
    "print('vgg_full:', vgg_full)\n",
    "print('------------------------------------------------------------------')"
   ]
  },
  {
   "cell_type": "code",
   "execution_count": 5,
   "metadata": {},
   "outputs": [],
   "source": [
    "data_1 = [vgg_full_rotate, \n",
    "          resent_full_rotate, \n",
    "          vgg_freeze_rotate,  \n",
    "          resnet_freeze_rotate,\n",
    "          efficient_rotate]\n",
    "data_2 = [resent_full,  \n",
    "          vgg_freeze, \n",
    "          efficient, \n",
    "          resnet_freeze, \n",
    "          vgg_full]"
   ]
  },
  {
   "cell_type": "code",
   "execution_count": 6,
   "metadata": {},
   "outputs": [],
   "source": [
    "df_1 = pd.DataFrame({'Accuracy': data_1}, index=['VGG_Full', 'ResNet_Full', 'VGG_Freeze', 'ResNet_Freeze', 'EfficientNet'])\n",
    "df_2 = pd.DataFrame({'Accuracy': data_2}, index=['ResNet_Full', 'VGG_Freeze', 'EfficientNet', 'ResNet_Freeze', 'VGG_Full'])"
   ]
  },
  {
   "cell_type": "markdown",
   "metadata": {},
   "source": [
    "# Precision"
   ]
  },
  {
   "cell_type": "code",
   "execution_count": 7,
   "metadata": {},
   "outputs": [
    {
     "name": "stdout",
     "output_type": "stream",
     "text": [
      "RECALL\n",
      "------------------------------------------------------------------\n",
      "vgg_full_rotate: 0.002983345792000862\n",
      "------------------------------------------------------------------\n",
      "resent_full_rotate: 0.3432420284847787\n",
      "------------------------------------------------------------------\n",
      "resent_full: 0.35525561356749275\n",
      "------------------------------------------------------------------\n",
      "vgg_freeze_rotate: 0.2477285486949642\n",
      "------------------------------------------------------------------\n",
      "vgg_freeze: 0.29398896798242347\n",
      "------------------------------------------------------------------\n",
      "efficient: 0.5497424350567118\n",
      "------------------------------------------------------------------\n",
      "resnet_freeze_rotate: 0.27846347146402073\n",
      "------------------------------------------------------------------\n",
      "resnet_freeze: 0.22194274211650153\n",
      "------------------------------------------------------------------\n",
      "efficient_rotate: 0.6371764549449539\n",
      "------------------------------------------------------------------\n",
      "vgg_full: 0.002983345792000862\n",
      "------------------------------------------------------------------\n"
     ]
    },
    {
     "name": "stderr",
     "output_type": "stream",
     "text": [
      "/home/rylan/.local/lib/python3.6/site-packages/sklearn/metrics/classification.py:1437: UndefinedMetricWarning: Precision is ill-defined and being set to 0.0 in labels with no predicted samples.\n",
      "  'precision', 'predicted', average, warn_for)\n"
     ]
    }
   ],
   "source": [
    "print('RECALL')\n",
    "print('------------------------------------------------------------------')\n",
    "vgg_full_rotate = precision(y_real, y_predict_full_vgg_transforms, average='macro')\n",
    "print('vgg_full_rotate:', vgg_full_rotate)\n",
    "print('------------------------------------------------------------------')\n",
    "resent_full_rotate = precision(y_real, y_predict_resnet_rotated, average='macro')\n",
    "print('resent_full_rotate:', resent_full_rotate)\n",
    "print('------------------------------------------------------------------')\n",
    "resent_full = precision(y_real, y_predict_resnet, average='macro')\n",
    "print('resent_full:', resent_full)\n",
    "print('------------------------------------------------------------------')\n",
    "vgg_freeze_rotate = precision(y_real, y_predict_vgg_freeze_rotate, average='macro')\n",
    "print('vgg_freeze_rotate:', vgg_freeze_rotate)\n",
    "print('------------------------------------------------------------------')\n",
    "vgg_freeze = precision(y_real, y_predict_vgg, average='macro')\n",
    "print('vgg_freeze:', vgg_freeze)\n",
    "print('------------------------------------------------------------------')\n",
    "efficient = precision(y_real, y_predict_efficient_non_transform, average='macro')\n",
    "print('efficient:', efficient)\n",
    "print('------------------------------------------------------------------')\n",
    "resnet_freeze_rotate = precision(y_real, y_predict_resnet_freeze_rotate, average='macro')\n",
    "print('resnet_freeze_rotate:', resnet_freeze_rotate)\n",
    "print('------------------------------------------------------------------')\n",
    "resnet_freeze = precision(y_real, y_predict_freeze_resnet, average='macro')\n",
    "print('resnet_freeze:', resnet_freeze)\n",
    "print('------------------------------------------------------------------')\n",
    "efficient_rotate = precision(y_real, y_predict_efficient_transform, average='macro')\n",
    "print('efficient_rotate:', efficient_rotate)\n",
    "print('------------------------------------------------------------------')\n",
    "vgg_full = precision(y_real, y_predict_vgg_full_non, average='macro')\n",
    "print('vgg_full:', vgg_full)\n",
    "print('------------------------------------------------------------------')"
   ]
  },
  {
   "cell_type": "code",
   "execution_count": 8,
   "metadata": {},
   "outputs": [],
   "source": [
    "data_1 = [vgg_full_rotate, \n",
    "          resent_full_rotate, \n",
    "          vgg_freeze_rotate,  \n",
    "          resnet_freeze_rotate,\n",
    "          efficient_rotate]\n",
    "data_2 = [resent_full,  \n",
    "          vgg_freeze, \n",
    "          efficient, \n",
    "          resnet_freeze, \n",
    "          vgg_full]"
   ]
  },
  {
   "cell_type": "code",
   "execution_count": 9,
   "metadata": {},
   "outputs": [],
   "source": [
    "df_1['Precision'] = data_1\n",
    "df_2['Precision'] = data_2"
   ]
  },
  {
   "cell_type": "markdown",
   "metadata": {},
   "source": [
    "# Recall"
   ]
  },
  {
   "cell_type": "code",
   "execution_count": 10,
   "metadata": {},
   "outputs": [
    {
     "name": "stdout",
     "output_type": "stream",
     "text": [
      "RECALL\n",
      "------------------------------------------------------------------\n",
      "vgg_full_rotate: 0.022222222222222223\n",
      "------------------------------------------------------------------\n",
      "resent_full_rotate: 0.22422764071145523\n",
      "------------------------------------------------------------------\n",
      "resent_full: 0.20652685335513812\n",
      "------------------------------------------------------------------\n",
      "vgg_freeze_rotate: 0.1633671268922839\n",
      "------------------------------------------------------------------\n",
      "vgg_freeze: 0.21564399419952707\n",
      "------------------------------------------------------------------\n",
      "efficient: 0.521053130658286\n",
      "------------------------------------------------------------------\n",
      "resnet_freeze_rotate: 0.17893483656768736\n",
      "------------------------------------------------------------------\n",
      "resnet_freeze: 0.16564000131806889\n",
      "------------------------------------------------------------------\n",
      "efficient_rotate: 0.5929458379899022\n",
      "------------------------------------------------------------------\n",
      "vgg_full: 0.022222222222222223\n",
      "------------------------------------------------------------------\n"
     ]
    }
   ],
   "source": [
    "print('RECALL')\n",
    "print('------------------------------------------------------------------')\n",
    "vgg_full_rotate = recall(y_real, y_predict_full_vgg_transforms, average='macro')\n",
    "print('vgg_full_rotate:', vgg_full_rotate)\n",
    "print('------------------------------------------------------------------')\n",
    "resent_full_rotate = recall(y_real, y_predict_resnet_rotated, average='macro')\n",
    "print('resent_full_rotate:', resent_full_rotate)\n",
    "print('------------------------------------------------------------------')\n",
    "resent_full = recall(y_real, y_predict_resnet, average='macro')\n",
    "print('resent_full:', resent_full)\n",
    "print('------------------------------------------------------------------')\n",
    "vgg_freeze_rotate = recall(y_real, y_predict_vgg_freeze_rotate, average='macro')\n",
    "print('vgg_freeze_rotate:', vgg_freeze_rotate)\n",
    "print('------------------------------------------------------------------')\n",
    "vgg_freeze = recall(y_real, y_predict_vgg, average='macro')\n",
    "print('vgg_freeze:', vgg_freeze)\n",
    "print('------------------------------------------------------------------')\n",
    "efficient = recall(y_real, y_predict_efficient_non_transform, average='macro')\n",
    "print('efficient:', efficient)\n",
    "print('------------------------------------------------------------------')\n",
    "resnet_freeze_rotate = recall(y_real, y_predict_resnet_freeze_rotate, average='macro')\n",
    "print('resnet_freeze_rotate:', resnet_freeze_rotate)\n",
    "print('------------------------------------------------------------------')\n",
    "resnet_freeze = recall(y_real, y_predict_freeze_resnet, average='macro')\n",
    "print('resnet_freeze:', resnet_freeze)\n",
    "print('------------------------------------------------------------------')\n",
    "efficient_rotate = recall(y_real, y_predict_efficient_transform, average='macro')\n",
    "print('efficient_rotate:', efficient_rotate)\n",
    "print('------------------------------------------------------------------')\n",
    "vgg_full = recall(y_real, y_predict_vgg_full_non, average='macro')\n",
    "print('vgg_full:', vgg_full)\n",
    "print('------------------------------------------------------------------')"
   ]
  },
  {
   "cell_type": "code",
   "execution_count": 11,
   "metadata": {},
   "outputs": [],
   "source": [
    "data_1 = [vgg_full_rotate, \n",
    "          resent_full_rotate, \n",
    "          vgg_freeze_rotate,  \n",
    "          resnet_freeze_rotate,\n",
    "          efficient_rotate]\n",
    "data_2 = [resent_full,  \n",
    "          vgg_freeze, \n",
    "          efficient, \n",
    "          resnet_freeze, \n",
    "          vgg_full]"
   ]
  },
  {
   "cell_type": "code",
   "execution_count": 12,
   "metadata": {},
   "outputs": [],
   "source": [
    "df_1['Recall'] = data_1\n",
    "df_2['Recall'] = data_2"
   ]
  },
  {
   "cell_type": "markdown",
   "metadata": {},
   "source": [
    "# F1-Score"
   ]
  },
  {
   "cell_type": "code",
   "execution_count": 13,
   "metadata": {},
   "outputs": [
    {
     "name": "stdout",
     "output_type": "stream",
     "text": [
      "F1-Score\n",
      "------------------------------------------------------------------\n",
      "vgg_full_rotate: 0.0052604704736798355\n",
      "------------------------------------------------------------------\n",
      "resent_full_rotate: 0.2319315997579336\n",
      "------------------------------------------------------------------\n",
      "resent_full: 0.21409237520579316\n",
      "------------------------------------------------------------------\n",
      "vgg_freeze_rotate: 0.1655069340749818\n",
      "------------------------------------------------------------------\n",
      "vgg_freeze: 0.2206939384664623\n",
      "------------------------------------------------------------------\n",
      "efficient: 0.5128490726778004\n",
      "------------------------------------------------------------------\n",
      "resnet_freeze_rotate: 0.17909432357848568\n",
      "------------------------------------------------------------------\n",
      "resnet_freeze: 0.16456127488077232\n",
      "------------------------------------------------------------------\n"
     ]
    },
    {
     "name": "stderr",
     "output_type": "stream",
     "text": [
      "/home/rylan/.local/lib/python3.6/site-packages/sklearn/metrics/classification.py:1437: UndefinedMetricWarning: F-score is ill-defined and being set to 0.0 in labels with no predicted samples.\n",
      "  'precision', 'predicted', average, warn_for)\n"
     ]
    },
    {
     "name": "stdout",
     "output_type": "stream",
     "text": [
      "efficient_rotate: 0.602419166988644\n",
      "------------------------------------------------------------------\n",
      "vgg_full: 0.0052604704736798355\n",
      "------------------------------------------------------------------\n"
     ]
    }
   ],
   "source": [
    "print('F1-Score')\n",
    "print('------------------------------------------------------------------')\n",
    "vgg_full_rotate = f1_score(y_real, y_predict_full_vgg_transforms, average='macro')\n",
    "print('vgg_full_rotate:', vgg_full_rotate)\n",
    "print('------------------------------------------------------------------')\n",
    "resent_full_rotate = f1_score(y_real, y_predict_resnet_rotated, average='macro')\n",
    "print('resent_full_rotate:', resent_full_rotate)\n",
    "print('------------------------------------------------------------------')\n",
    "resent_full = f1_score(y_real, y_predict_resnet, average='macro')\n",
    "print('resent_full:', resent_full)\n",
    "print('------------------------------------------------------------------')\n",
    "vgg_freeze_rotate = f1_score(y_real, y_predict_vgg_freeze_rotate, average='macro')\n",
    "print('vgg_freeze_rotate:', vgg_freeze_rotate)\n",
    "print('------------------------------------------------------------------')\n",
    "vgg_freeze = f1_score(y_real, y_predict_vgg, average='macro')\n",
    "print('vgg_freeze:', vgg_freeze)\n",
    "print('------------------------------------------------------------------')\n",
    "efficient = f1_score(y_real, y_predict_efficient_non_transform, average='macro')\n",
    "print('efficient:', efficient)\n",
    "print('------------------------------------------------------------------')\n",
    "resnet_freeze_rotate = f1_score(y_real, y_predict_resnet_freeze_rotate, average='macro')\n",
    "print('resnet_freeze_rotate:', resnet_freeze_rotate)\n",
    "print('------------------------------------------------------------------')\n",
    "resnet_freeze = f1_score(y_real, y_predict_freeze_resnet, average='macro')\n",
    "print('resnet_freeze:', resnet_freeze)\n",
    "print('------------------------------------------------------------------')\n",
    "efficient_rotate = f1_score(y_real, y_predict_efficient_transform, average='macro')\n",
    "print('efficient_rotate:', efficient_rotate)\n",
    "print('------------------------------------------------------------------')\n",
    "vgg_full = f1_score(y_real, y_predict_vgg_full_non, average='macro')\n",
    "print('vgg_full:', vgg_full)\n",
    "print('------------------------------------------------------------------')"
   ]
  },
  {
   "cell_type": "code",
   "execution_count": 14,
   "metadata": {},
   "outputs": [],
   "source": [
    "data_1 = [vgg_full_rotate, \n",
    "          resent_full_rotate, \n",
    "          vgg_freeze_rotate,  \n",
    "          resnet_freeze_rotate,\n",
    "          efficient_rotate]\n",
    "data_2 = [resent_full,  \n",
    "          vgg_freeze, \n",
    "          efficient, \n",
    "          resnet_freeze, \n",
    "          vgg_full]"
   ]
  },
  {
   "cell_type": "code",
   "execution_count": 15,
   "metadata": {},
   "outputs": [],
   "source": [
    "df_1['F1_Score'] = data_1\n",
    "df_2['F1_Score'] = data_2"
   ]
  },
  {
   "cell_type": "markdown",
   "metadata": {},
   "source": [
    "# Cohen's Kappa"
   ]
  },
  {
   "cell_type": "code",
   "execution_count": 16,
   "metadata": {},
   "outputs": [
    {
     "name": "stdout",
     "output_type": "stream",
     "text": [
      "Cohens Kappa\n",
      "------------------------------------------------------------------\n",
      "vgg_full_rotate: 0.0\n",
      "------------------------------------------------------------------\n",
      "resent_full_rotate: 0.29760357446616315\n",
      "------------------------------------------------------------------\n",
      "resent_full: 0.2988736674199519\n",
      "------------------------------------------------------------------\n",
      "vgg_freeze_rotate: 0.23752269121018577\n",
      "------------------------------------------------------------------\n",
      "vgg_freeze: 0.28890809299358877\n",
      "------------------------------------------------------------------\n",
      "efficient: 0.5478953336969428\n",
      "------------------------------------------------------------------\n",
      "resnet_freeze_rotate: 0.25176830202141953\n",
      "------------------------------------------------------------------\n",
      "resnet_freeze: 0.21625542889986216\n",
      "------------------------------------------------------------------\n",
      "efficient_rotate: 0.636693606480284\n",
      "------------------------------------------------------------------\n",
      "vgg_full: 0.0\n",
      "------------------------------------------------------------------\n"
     ]
    }
   ],
   "source": [
    "print('Cohens Kappa')\n",
    "print('------------------------------------------------------------------')\n",
    "vgg_full_rotate = cohen(y_real, y_predict_full_vgg_transforms)\n",
    "print('vgg_full_rotate:', vgg_full_rotate)\n",
    "print('------------------------------------------------------------------')\n",
    "resent_full_rotate = cohen(y_real, y_predict_resnet_rotated)\n",
    "print('resent_full_rotate:', resent_full_rotate)\n",
    "print('------------------------------------------------------------------')\n",
    "resent_full = cohen(y_real, y_predict_resnet)\n",
    "print('resent_full:', resent_full)\n",
    "print('------------------------------------------------------------------')\n",
    "vgg_freeze_rotate = cohen(y_real, y_predict_vgg_freeze_rotate)\n",
    "print('vgg_freeze_rotate:', vgg_freeze_rotate)\n",
    "print('------------------------------------------------------------------')\n",
    "vgg_freeze = cohen(y_real, y_predict_vgg)\n",
    "print('vgg_freeze:', vgg_freeze)\n",
    "print('------------------------------------------------------------------')\n",
    "efficient = cohen(y_real, y_predict_efficient_non_transform)\n",
    "print('efficient:', efficient)\n",
    "print('------------------------------------------------------------------')\n",
    "resnet_freeze_rotate = cohen(y_real, y_predict_resnet_freeze_rotate)\n",
    "print('resnet_freeze_rotate:', resnet_freeze_rotate)\n",
    "print('------------------------------------------------------------------')\n",
    "resnet_freeze = cohen(y_real, y_predict_freeze_resnet)\n",
    "print('resnet_freeze:', resnet_freeze)\n",
    "print('------------------------------------------------------------------')\n",
    "efficient_rotate = cohen(y_real, y_predict_efficient_transform)\n",
    "print('efficient_rotate:', efficient_rotate)\n",
    "print('------------------------------------------------------------------')\n",
    "vgg_full = cohen(y_real, y_predict_vgg_full_non)\n",
    "print('vgg_full:', vgg_full)\n",
    "print('------------------------------------------------------------------')"
   ]
  },
  {
   "cell_type": "code",
   "execution_count": 17,
   "metadata": {},
   "outputs": [],
   "source": [
    "data_1 = [vgg_full_rotate, \n",
    "          resent_full_rotate, \n",
    "          vgg_freeze_rotate,  \n",
    "          resnet_freeze_rotate,\n",
    "          efficient_rotate]\n",
    "data_2 = [resent_full,  \n",
    "          vgg_freeze, \n",
    "          efficient, \n",
    "          resnet_freeze, \n",
    "          vgg_full]"
   ]
  },
  {
   "cell_type": "code",
   "execution_count": 18,
   "metadata": {},
   "outputs": [],
   "source": [
    "df_1['Cohens Kappa'] = data_1\n",
    "df_2['Cohens Kappa'] = data_2"
   ]
  },
  {
   "cell_type": "code",
   "execution_count": 19,
   "metadata": {},
   "outputs": [],
   "source": [
    "df_1.to_csv(r'Snake/rotate.csv')\n",
    "df_2.to_csv(r'Snake/non_rotate.csv')"
   ]
  },
  {
   "cell_type": "code",
   "execution_count": 20,
   "metadata": {},
   "outputs": [
    {
     "data": {
      "text/html": [
       "<div>\n",
       "<style scoped>\n",
       "    .dataframe tbody tr th:only-of-type {\n",
       "        vertical-align: middle;\n",
       "    }\n",
       "\n",
       "    .dataframe tbody tr th {\n",
       "        vertical-align: top;\n",
       "    }\n",
       "\n",
       "    .dataframe thead th {\n",
       "        text-align: right;\n",
       "    }\n",
       "</style>\n",
       "<table border=\"1\" class=\"dataframe\">\n",
       "  <thead>\n",
       "    <tr style=\"text-align: right;\">\n",
       "      <th></th>\n",
       "      <th>Accuracy</th>\n",
       "      <th>Precision</th>\n",
       "      <th>Recall</th>\n",
       "      <th>F1_Score</th>\n",
       "      <th>Cohens Kappa</th>\n",
       "    </tr>\n",
       "  </thead>\n",
       "  <tbody>\n",
       "    <tr>\n",
       "      <td>VGG_Full</td>\n",
       "      <td>0.134251</td>\n",
       "      <td>0.002983</td>\n",
       "      <td>0.022222</td>\n",
       "      <td>0.005260</td>\n",
       "      <td>0.000000</td>\n",
       "    </tr>\n",
       "    <tr>\n",
       "      <td>ResNet_Full</td>\n",
       "      <td>0.340505</td>\n",
       "      <td>0.343242</td>\n",
       "      <td>0.224228</td>\n",
       "      <td>0.231932</td>\n",
       "      <td>0.297604</td>\n",
       "    </tr>\n",
       "    <tr>\n",
       "      <td>VGG_Freeze</td>\n",
       "      <td>0.289411</td>\n",
       "      <td>0.247729</td>\n",
       "      <td>0.163367</td>\n",
       "      <td>0.165507</td>\n",
       "      <td>0.237523</td>\n",
       "    </tr>\n",
       "    <tr>\n",
       "      <td>ResNet_Freeze</td>\n",
       "      <td>0.302746</td>\n",
       "      <td>0.278463</td>\n",
       "      <td>0.178935</td>\n",
       "      <td>0.179094</td>\n",
       "      <td>0.251768</td>\n",
       "    </tr>\n",
       "    <tr>\n",
       "      <td>EfficientNet</td>\n",
       "      <td>0.653494</td>\n",
       "      <td>0.637176</td>\n",
       "      <td>0.592946</td>\n",
       "      <td>0.602419</td>\n",
       "      <td>0.636694</td>\n",
       "    </tr>\n",
       "  </tbody>\n",
       "</table>\n",
       "</div>"
      ],
      "text/plain": [
       "               Accuracy  Precision    Recall  F1_Score  Cohens Kappa\n",
       "VGG_Full       0.134251   0.002983  0.022222  0.005260      0.000000\n",
       "ResNet_Full    0.340505   0.343242  0.224228  0.231932      0.297604\n",
       "VGG_Freeze     0.289411   0.247729  0.163367  0.165507      0.237523\n",
       "ResNet_Freeze  0.302746   0.278463  0.178935  0.179094      0.251768\n",
       "EfficientNet   0.653494   0.637176  0.592946  0.602419      0.636694"
      ]
     },
     "execution_count": 20,
     "metadata": {},
     "output_type": "execute_result"
    }
   ],
   "source": [
    "df_1"
   ]
  },
  {
   "cell_type": "code",
   "execution_count": 21,
   "metadata": {},
   "outputs": [
    {
     "data": {
      "text/html": [
       "<div>\n",
       "<style scoped>\n",
       "    .dataframe tbody tr th:only-of-type {\n",
       "        vertical-align: middle;\n",
       "    }\n",
       "\n",
       "    .dataframe tbody tr th {\n",
       "        vertical-align: top;\n",
       "    }\n",
       "\n",
       "    .dataframe thead th {\n",
       "        text-align: right;\n",
       "    }\n",
       "</style>\n",
       "<table border=\"1\" class=\"dataframe\">\n",
       "  <thead>\n",
       "    <tr style=\"text-align: right;\">\n",
       "      <th></th>\n",
       "      <th>Accuracy</th>\n",
       "      <th>Precision</th>\n",
       "      <th>Recall</th>\n",
       "      <th>F1_Score</th>\n",
       "      <th>Cohens Kappa</th>\n",
       "    </tr>\n",
       "  </thead>\n",
       "  <tbody>\n",
       "    <tr>\n",
       "      <td>ResNet_Full</td>\n",
       "      <td>0.345657</td>\n",
       "      <td>0.355256</td>\n",
       "      <td>0.206527</td>\n",
       "      <td>0.214092</td>\n",
       "      <td>0.298874</td>\n",
       "    </tr>\n",
       "    <tr>\n",
       "      <td>VGG_Freeze</td>\n",
       "      <td>0.332384</td>\n",
       "      <td>0.293989</td>\n",
       "      <td>0.215644</td>\n",
       "      <td>0.220694</td>\n",
       "      <td>0.288908</td>\n",
       "    </tr>\n",
       "    <tr>\n",
       "      <td>EfficientNet</td>\n",
       "      <td>0.565913</td>\n",
       "      <td>0.549742</td>\n",
       "      <td>0.521053</td>\n",
       "      <td>0.512849</td>\n",
       "      <td>0.547895</td>\n",
       "    </tr>\n",
       "    <tr>\n",
       "      <td>ResNet_Freeze</td>\n",
       "      <td>0.263834</td>\n",
       "      <td>0.221943</td>\n",
       "      <td>0.165640</td>\n",
       "      <td>0.164561</td>\n",
       "      <td>0.216255</td>\n",
       "    </tr>\n",
       "    <tr>\n",
       "      <td>VGG_Full</td>\n",
       "      <td>0.134251</td>\n",
       "      <td>0.002983</td>\n",
       "      <td>0.022222</td>\n",
       "      <td>0.005260</td>\n",
       "      <td>0.000000</td>\n",
       "    </tr>\n",
       "  </tbody>\n",
       "</table>\n",
       "</div>"
      ],
      "text/plain": [
       "               Accuracy  Precision    Recall  F1_Score  Cohens Kappa\n",
       "ResNet_Full    0.345657   0.355256  0.206527  0.214092      0.298874\n",
       "VGG_Freeze     0.332384   0.293989  0.215644  0.220694      0.288908\n",
       "EfficientNet   0.565913   0.549742  0.521053  0.512849      0.547895\n",
       "ResNet_Freeze  0.263834   0.221943  0.165640  0.164561      0.216255\n",
       "VGG_Full       0.134251   0.002983  0.022222  0.005260      0.000000"
      ]
     },
     "execution_count": 21,
     "metadata": {},
     "output_type": "execute_result"
    }
   ],
   "source": [
    "df_2"
   ]
  },
  {
   "cell_type": "code",
   "execution_count": 22,
   "metadata": {},
   "outputs": [
    {
     "name": "stdout",
     "output_type": "stream",
     "text": [
      "\\begin{tabular}{lrrrrr}\n",
      "\\toprule\n",
      "{} &  Accuracy &  Precision &    Recall &  F1\\_Score &  Cohens Kappa \\\\\n",
      "\\midrule\n",
      "VGG\\_Full      &  0.134251 &   0.002983 &  0.022222 &  0.005260 &      0.000000 \\\\\n",
      "ResNet\\_Full   &  0.340505 &   0.343242 &  0.224228 &  0.231932 &      0.297604 \\\\\n",
      "VGG\\_Freeze    &  0.289411 &   0.247729 &  0.163367 &  0.165507 &      0.237523 \\\\\n",
      "ResNet\\_Freeze &  0.302746 &   0.278463 &  0.178935 &  0.179094 &      0.251768 \\\\\n",
      "EfficientNet  &  0.653494 &   0.637176 &  0.592946 &  0.602419 &      0.636694 \\\\\n",
      "\\bottomrule\n",
      "\\end{tabular}\n",
      "\n"
     ]
    }
   ],
   "source": [
    "print(df_1.to_latex())"
   ]
  },
  {
   "cell_type": "code",
   "execution_count": 23,
   "metadata": {},
   "outputs": [
    {
     "name": "stdout",
     "output_type": "stream",
     "text": [
      "\\begin{tabular}{lrrrrr}\n",
      "\\toprule\n",
      "{} &  Accuracy &  Precision &    Recall &  F1\\_Score &  Cohens Kappa \\\\\n",
      "\\midrule\n",
      "ResNet\\_Full   &  0.345657 &   0.355256 &  0.206527 &  0.214092 &      0.298874 \\\\\n",
      "VGG\\_Freeze    &  0.332384 &   0.293989 &  0.215644 &  0.220694 &      0.288908 \\\\\n",
      "EfficientNet  &  0.565913 &   0.549742 &  0.521053 &  0.512849 &      0.547895 \\\\\n",
      "ResNet\\_Freeze &  0.263834 &   0.221943 &  0.165640 &  0.164561 &      0.216255 \\\\\n",
      "VGG\\_Full      &  0.134251 &   0.002983 &  0.022222 &  0.005260 &      0.000000 \\\\\n",
      "\\bottomrule\n",
      "\\end{tabular}\n",
      "\n"
     ]
    }
   ],
   "source": [
    "print(df_2.to_latex())"
   ]
  },
  {
   "cell_type": "code",
   "execution_count": null,
   "metadata": {},
   "outputs": [],
   "source": [
    "y_real"
   ]
  },
  {
   "cell_type": "code",
   "execution_count": null,
   "metadata": {},
   "outputs": [],
   "source": [
    "y_predict_efficient_transform"
   ]
  },
  {
   "cell_type": "code",
   "execution_count": null,
   "metadata": {},
   "outputs": [],
   "source": [
    "y_predict_efficient_non_transform"
   ]
  },
  {
   "cell_type": "code",
   "execution_count": 35,
   "metadata": {},
   "outputs": [
    {
     "name": "stderr",
     "output_type": "stream",
     "text": [
      "/home/rylan/.local/lib/python3.6/site-packages/ipykernel_launcher.py:2: FutureWarning: Using a non-tuple sequence for multidimensional indexing is deprecated; use `arr[tuple(seq)]` instead of `arr[seq]`. In the future this will be interpreted as an array index, `arr[np.array(seq)]`, which will result either in an error or a different result.\n",
      "  \n"
     ]
    },
    {
     "data": {
      "image/png": "[encoded data removed]",
      "text/plain": [
       "<Figure size 720x720 with 1 Axes>"
      ]
     },
     "metadata": {
      "needs_background": "light"
     },
     "output_type": "display_data"
    }
   ],
   "source": [
    "cm_eff = np.zeros((45, 45), dtype=int)\n",
    "np.add.at(cm_eff, [y_real, y_predict_efficient_non_transform], 1)\n",
    "plt.figure(figsize=(10, 10))\n",
    "sns.heatmap(cm_eff, cbar=False, cmap='viridis')\n",
    "plt.savefig('efficient.png')\n",
    "plt.show()"
   ]
  },
  {
   "cell_type": "code",
   "execution_count": 36,
   "metadata": {},
   "outputs": [
    {
     "name": "stderr",
     "output_type": "stream",
     "text": [
      "/home/rylan/.local/lib/python3.6/site-packages/ipykernel_launcher.py:2: FutureWarning: Using a non-tuple sequence for multidimensional indexing is deprecated; use `arr[tuple(seq)]` instead of `arr[seq]`. In the future this will be interpreted as an array index, `arr[np.array(seq)]`, which will result either in an error or a different result.\n",
      "  \n"
     ]
    },
    {
     "data": {
      "image/png": "[encoded data removed]",
      "text/plain": [
       "<Figure size 720x720 with 1 Axes>"
      ]
     },
     "metadata": {
      "needs_background": "light"
     },
     "output_type": "display_data"
    }
   ],
   "source": [
    "cm_eff_trans = np.zeros((45, 45), dtype=int)\n",
    "np.add.at(cm_eff_trans, [y_real, y_predict_efficient_transform], 1)\n",
    "plt.figure(figsize=(10, 10))\n",
    "sns.heatmap(cm_eff_trans, cbar=False, cmap='viridis')\n",
    "plt.savefig('efficient_trans.png')\n",
    "plt.show()"
   ]
  },
  {
   "cell_type": "code",
   "execution_count": null,
   "metadata": {},
   "outputs": [],
   "source": []
  }
 ],
 "metadata": {
  "kernelspec": {
   "display_name": "Python [conda env:tensorflow_gpu] *",
   "language": "python",
   "name": "conda-env-tensorflow_gpu-py"
  },
  "language_info": {
   "codemirror_mode": {
    "name": "ipython",
    "version": 3
   },
   "file_extension": ".py",
   "mimetype": "text/x-python",
   "name": "python",
   "nbconvert_exporter": "python",
   "pygments_lexer": "ipython3",
   "version": "3.6.8"
  }
 },
 "nbformat": 4,
 "nbformat_minor": 2
}
