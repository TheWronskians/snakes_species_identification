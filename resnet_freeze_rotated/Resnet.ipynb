{
 "cells": [
  {
   "cell_type": "code",
   "execution_count": null,
   "metadata": {},
   "outputs": [],
   "source": [
    "from keras.applications.resnet_v2 import ResNet101V2\n",
    "import keras\n",
    "from keras.models import Model\n",
    "from keras.layers import Dense\n",
    "from keras import optimizers\n",
    "from keras.preprocessing.image import ImageDataGenerator\n",
    "from keras.preprocessing import image\n",
    "import numpy as np\n",
    "from keras.callbacks import ModelCheckpoint, EarlyStopping\n",
    "from keras.applications.resnet_v2 import preprocess_input\n",
    "from keras.layers import Dense, Dropout, Flatten, Conv2D, MaxPool2D,GlobalAveragePooling2D\n",
    "import pickle\n",
    "import PIL"
   ]
  },
  {
   "cell_type": "code",
   "execution_count": null,
   "metadata": {},
   "outputs": [],
   "source": [
    "resnet_model = ResNet101V2(weights='imagenet', include_top=False)"
   ]
  },
  {
   "cell_type": "code",
   "execution_count": null,
   "metadata": {},
   "outputs": [],
   "source": [
    "trdata = ImageDataGenerator(rescale=1./255,preprocessing_function=preprocess_input)\n",
    "\n",
    "traindata = trdata.flow_from_directory(directory=\"datasets/train\",target_size=(224,224),color_mode='rgb',batch_size = 32)\n",
    "# trdata.fit(traindata)\n",
    "\n",
    "tsdata = ImageDataGenerator(rescale=1./255,preprocessing_function=preprocess_input)\n",
    "\n",
    "testdata = tsdata.flow_from_directory(directory=\"datasets/val\", target_size=(224,224),color_mode='rgb',batch_size = 32)"
   ]
  },
  {
   "cell_type": "code",
   "execution_count": null,
   "metadata": {},
   "outputs": [],
   "source": [
    "x = resnet_model.output\n",
    "x = GlobalAveragePooling2D()(x)\n",
    "x = Dropout(0.2)(x)\n",
    "num_class = np.unique(testdata.classes).shape[0]\n",
    "predictions = Dense(num_class, activation= 'softmax')(x)\n",
    "model = Model(inputs = resnet_model.input, outputs = predictions)"
   ]
  },
  {
   "cell_type": "code",
   "execution_count": null,
   "metadata": {},
   "outputs": [],
   "source": [
    "model.summary()"
   ]
  },
  {
   "cell_type": "code",
   "execution_count": null,
   "metadata": {},
   "outputs": [],
   "source": [
    "# model.summary()\n",
    "for layer in model.layers[:-5]:\n",
    "    layer.trainable= False"
   ]
  },
  {
   "cell_type": "code",
   "execution_count": null,
   "metadata": {},
   "outputs": [],
   "source": [
    "# model.summary()"
   ]
  },
  {
   "cell_type": "code",
   "execution_count": null,
   "metadata": {},
   "outputs": [],
   "source": [
    "model.compile(loss = \"categorical_crossentropy\", \n",
    "                    optimizer = 'Adam', metrics=[\"accuracy\"])\n",
    "\n",
    "checkpoint = ModelCheckpoint(\"resnet_1.h5\", monitor='val_accuracy', verbose=1,\n",
    "                             save_best_only=True, save_weights_only=False, mode='auto', period=1)\n",
    "\n",
    "early = EarlyStopping(monitor='val_accuracy', min_delta=0, patience=40, verbose=1, mode='auto')\n",
    "\n",
    "\n",
    "hist = model.fit_generator(generator= traindata, steps_per_epoch= 2060, epochs= 100,\n",
    "                          validation_data= testdata, validation_steps=0, callbacks=[checkpoint,early])\n",
    "\n",
    "with open('ResnetFreezeHistory', 'wb') as handle:\n",
    "    pickle.dump(hist.history, handle)\n",
    "\n",
    "model.save_weights(\"resnet_1.h5\")"
   ]
  },
  {
   "cell_type": "code",
   "execution_count": null,
   "metadata": {},
   "outputs": [],
   "source": []
  },
  {
   "cell_type": "code",
   "execution_count": null,
   "metadata": {},
   "outputs": [],
   "source": []
  }
 ],
 "metadata": {
  "kernelspec": {
   "display_name": "Python [conda env:snake] *",
   "language": "python",
   "name": "conda-env-snake-py"
  },
  "language_info": {
   "codemirror_mode": {
    "name": "ipython",
    "version": 3
   },
   "file_extension": ".py",
   "mimetype": "text/x-python",
   "name": "python",
   "nbconvert_exporter": "python",
   "pygments_lexer": "ipython3",
   "version": "3.6.9"
  }
 },
 "nbformat": 4,
 "nbformat_minor": 2
}
