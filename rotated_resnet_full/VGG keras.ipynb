{
 "cells": [
  {
   "cell_type": "code",
   "execution_count": 1,
   "metadata": {},
   "outputs": [
    {
     "name": "stderr",
     "output_type": "stream",
     "text": [
      "Using TensorFlow backend.\n",
      "/home/jiahao/anaconda3/envs/tensorflow_gpu/lib/python3.6/site-packages/tensorflow/python/framework/dtypes.py:523: FutureWarning: Passing (type, 1) or '1type' as a synonym of type is deprecated; in a future version of numpy, it will be understood as (type, (1,)) / '(1,)type'.\n",
      "  _np_qint8 = np.dtype([(\"qint8\", np.int8, 1)])\n",
      "/home/jiahao/anaconda3/envs/tensorflow_gpu/lib/python3.6/site-packages/tensorflow/python/framework/dtypes.py:524: FutureWarning: Passing (type, 1) or '1type' as a synonym of type is deprecated; in a future version of numpy, it will be understood as (type, (1,)) / '(1,)type'.\n",
      "  _np_quint8 = np.dtype([(\"quint8\", np.uint8, 1)])\n",
      "/home/jiahao/anaconda3/envs/tensorflow_gpu/lib/python3.6/site-packages/tensorflow/python/framework/dtypes.py:525: FutureWarning: Passing (type, 1) or '1type' as a synonym of type is deprecated; in a future version of numpy, it will be understood as (type, (1,)) / '(1,)type'.\n",
      "  _np_qint16 = np.dtype([(\"qint16\", np.int16, 1)])\n",
      "/home/jiahao/anaconda3/envs/tensorflow_gpu/lib/python3.6/site-packages/tensorflow/python/framework/dtypes.py:526: FutureWarning: Passing (type, 1) or '1type' as a synonym of type is deprecated; in a future version of numpy, it will be understood as (type, (1,)) / '(1,)type'.\n",
      "  _np_quint16 = np.dtype([(\"quint16\", np.uint16, 1)])\n",
      "/home/jiahao/anaconda3/envs/tensorflow_gpu/lib/python3.6/site-packages/tensorflow/python/framework/dtypes.py:527: FutureWarning: Passing (type, 1) or '1type' as a synonym of type is deprecated; in a future version of numpy, it will be understood as (type, (1,)) / '(1,)type'.\n",
      "  _np_qint32 = np.dtype([(\"qint32\", np.int32, 1)])\n",
      "/home/jiahao/anaconda3/envs/tensorflow_gpu/lib/python3.6/site-packages/tensorflow/python/framework/dtypes.py:532: FutureWarning: Passing (type, 1) or '1type' as a synonym of type is deprecated; in a future version of numpy, it will be understood as (type, (1,)) / '(1,)type'.\n",
      "  np_resource = np.dtype([(\"resource\", np.ubyte, 1)])\n"
     ]
    }
   ],
   "source": [
    "from keras.applications.vgg16 import VGG16\n",
    "import keras\n",
    "from keras.models import Model\n",
    "from keras.layers import Dense,GlobalAveragePooling2D\n",
    "from keras import optimizers\n",
    "from keras.preprocessing.image import ImageDataGenerator\n",
    "from keras.preprocessing import image\n",
    "import numpy as np\n",
    "from keras.applications.vgg16 import preprocess_input\n",
    "from keras.callbacks import ModelCheckpoint, EarlyStopping"
   ]
  },
  {
   "cell_type": "code",
   "execution_count": 2,
   "metadata": {},
   "outputs": [],
   "source": [
    "vggmodel = VGG16(weights='imagenet', include_top=False)"
   ]
  },
  {
   "cell_type": "code",
   "execution_count": 5,
   "metadata": {},
   "outputs": [
    {
     "name": "stdout",
     "output_type": "stream",
     "text": [
      "Found 65918 images belonging to 45 classes.\n",
      "Found 16499 images belonging to 45 classes.\n"
     ]
    }
   ],
   "source": [
    "trdata = ImageDataGenerator(rescale=1./255,preprocessing_function=preprocess_input)\n",
    "\n",
    "traindata = trdata.flow_from_directory(directory=\"datasets/train\",target_size=(224,224),color_mode='rgb')\n",
    "# trdata.fit(traindata)\n",
    "\n",
    "tsdata = ImageDataGenerator(rescale=1./255,preprocessing_function=preprocess_input)\n",
    "\n",
    "testdata = tsdata.flow_from_directory(directory=\"datasets/val\", target_size=(224,224),color_mode='rgb')"
   ]
  },
  {
   "cell_type": "code",
   "execution_count": null,
   "metadata": {},
   "outputs": [],
   "source": [
    "# traindata.classes."
   ]
  },
  {
   "cell_type": "code",
   "execution_count": null,
   "metadata": {},
   "outputs": [
    {
     "name": "stdout",
     "output_type": "stream",
     "text": [
      "Epoch 1/100\n",
      "2065/2065 [==============================] - 813s 393ms/step - loss: 3.0028 - acc: 0.2191 - categorical_accuracy: 0.2191 - val_loss: 2.8181 - val_acc: 0.2540 - val_categorical_accuracy: 0.2540\n",
      "\n",
      "Epoch 00001: val_acc improved from -inf to 0.25402, saving model to vgg16_1.h5\n",
      "Epoch 2/100\n",
      "2065/2065 [==============================] - 837s 405ms/step - loss: 2.7304 - acc: 0.2679 - categorical_accuracy: 0.2679 - val_loss: 2.6943 - val_acc: 0.2809 - val_categorical_accuracy: 0.2809\n",
      "\n",
      "Epoch 00002: val_acc improved from 0.25402 to 0.28087, saving model to vgg16_1.h5\n",
      "Epoch 3/100\n",
      "2065/2065 [==============================] - 834s 404ms/step - loss: 2.6254 - acc: 0.2877 - categorical_accuracy: 0.2877 - val_loss: 2.6018 - val_acc: 0.2979 - val_categorical_accuracy: 0.2979\n",
      "\n",
      "Epoch 00003: val_acc improved from 0.28087 to 0.29790, saving model to vgg16_1.h5\n",
      "Epoch 4/100\n",
      "2065/2065 [==============================] - 833s 403ms/step - loss: 2.5476 - acc: 0.3052 - categorical_accuracy: 0.3052 - val_loss: 2.5834 - val_acc: 0.3009 - val_categorical_accuracy: 0.3009\n",
      "\n",
      "Epoch 00004: val_acc improved from 0.29790 to 0.30087, saving model to vgg16_1.h5\n",
      "Epoch 5/100\n",
      "2065/2065 [==============================] - 828s 401ms/step - loss: 2.4841 - acc: 0.3155 - categorical_accuracy: 0.3155 - val_loss: 2.5923 - val_acc: 0.3008 - val_categorical_accuracy: 0.3008\n",
      "\n",
      "Epoch 00005: val_acc did not improve from 0.30087\n",
      "Epoch 6/100\n",
      "2065/2065 [==============================] - 826s 400ms/step - loss: 2.4282 - acc: 0.3287 - categorical_accuracy: 0.3287 - val_loss: 2.5589 - val_acc: 0.3079 - val_categorical_accuracy: 0.3079\n",
      "\n",
      "Epoch 00006: val_acc improved from 0.30087 to 0.30790, saving model to vgg16_1.h5\n",
      "Epoch 7/100\n",
      "2065/2065 [==============================] - 825s 400ms/step - loss: 2.3680 - acc: 0.3394 - categorical_accuracy: 0.3394 - val_loss: 2.5454 - val_acc: 0.3066 - val_categorical_accuracy: 0.3066\n",
      "\n",
      "Epoch 00007: val_acc did not improve from 0.30790\n",
      "Epoch 8/100\n",
      "2065/2065 [==============================] - 826s 400ms/step - loss: 2.3179 - acc: 0.3506 - categorical_accuracy: 0.3506 - val_loss: 2.5393 - val_acc: 0.3135 - val_categorical_accuracy: 0.3135\n",
      "\n",
      "Epoch 00008: val_acc improved from 0.30790 to 0.31353, saving model to vgg16_1.h5\n",
      "Epoch 9/100\n",
      "2065/2065 [==============================] - 820s 397ms/step - loss: 2.2628 - acc: 0.3637 - categorical_accuracy: 0.3637 - val_loss: 2.5496 - val_acc: 0.3163 - val_categorical_accuracy: 0.3163\n",
      "\n",
      "Epoch 00009: val_acc improved from 0.31353 to 0.31632, saving model to vgg16_1.h5\n",
      "Epoch 10/100\n",
      "2065/2065 [==============================] - 819s 397ms/step - loss: 2.2086 - acc: 0.3739 - categorical_accuracy: 0.3739 - val_loss: 2.5573 - val_acc: 0.3187 - val_categorical_accuracy: 0.3187\n",
      "\n",
      "Epoch 00010: val_acc improved from 0.31632 to 0.31869, saving model to vgg16_1.h5\n",
      "Epoch 11/100\n",
      "1971/2065 [===========================>..] - ETA: 29s - loss: 2.1504 - acc: 0.3857 - categorical_accuracy: 0.3857"
     ]
    },
    {
     "name": "stderr",
     "output_type": "stream",
     "text": [
      "/home/jiahao/anaconda3/envs/tensorflow_gpu/lib/python3.6/site-packages/keras/utils/data_utils.py:610: UserWarning: The input 1787 could not be retrieved. It could be because a worker has died.\n",
      "  UserWarning)\n"
     ]
    }
   ],
   "source": [
    "# vggmodel.summary()\n",
    "\n",
    "num_class = np.unique(testdata.classes).shape[0]\n",
    "\n",
    "\n",
    "x=vggmodel.output\n",
    "x=GlobalAveragePooling2D()(x)\n",
    "x=Dense(1024,activation='relu')(x) #we add dense layers so that the model can learn more complex functions and classify for better results.\n",
    "x=Dense(1024,activation='relu')(x) #dense layer 2\n",
    "x=Dense(512,activation='relu')(x) #dense layer 3\n",
    "\n",
    "preds = Dense(num_class, activation=\"softmax\")(x)\n",
    "model_final = Model(inputs = vggmodel.input, outputs = preds)\n",
    "\n",
    "\n",
    "\n",
    "\n",
    "for layer in model_final.layers[:20]:\n",
    "    layer.trainable=False\n",
    "for layer in model_final.layers[20:]:\n",
    "    layer.trainable=True\n",
    "    \n",
    "    \n",
    "\n",
    "    \n",
    "model_final.compile(loss = \"categorical_crossentropy\", \n",
    "                    optimizer = 'Adam', metrics=[\"accuracy\",\"categorical_accuracy\"])\n",
    "\n",
    "\n",
    "checkpoint = ModelCheckpoint(\"vgg16_1.h5\", monitor='val_acc', verbose=1,\n",
    "                             save_best_only=True, save_weights_only=False, mode='auto', period=1)\n",
    "\n",
    "early = EarlyStopping(monitor='val_acc', min_delta=0, patience=40, verbose=1, mode='auto')\n",
    "\n",
    "\n",
    "model_final.fit_generator(generator= traindata, steps_per_epoch= 2065, epochs= 100,\n",
    "                          validation_data= testdata, validation_steps=0, callbacks=[checkpoint,early])\n",
    "\n",
    "model_final.save_weights(\"vgg16_1.h5\")"
   ]
  },
  {
   "cell_type": "code",
   "execution_count": null,
   "metadata": {},
   "outputs": [],
   "source": [
    "model_final.summary()"
   ]
  },
  {
   "cell_type": "code",
   "execution_count": null,
   "metadata": {},
   "outputs": [],
   "source": [
    "# vggmodel.summary()"
   ]
  },
  {
   "cell_type": "code",
   "execution_count": null,
   "metadata": {},
   "outputs": [],
   "source": [
    "num_class = np.unique(testdata.classes).shape[0]"
   ]
  },
  {
   "cell_type": "code",
   "execution_count": null,
   "metadata": {},
   "outputs": [],
   "source": []
  },
  {
   "cell_type": "code",
   "execution_count": null,
   "metadata": {},
   "outputs": [],
   "source": []
  }
 ],
 "metadata": {
  "kernelspec": {
   "display_name": "Python [conda env:snake] *",
   "language": "python",
   "name": "conda-env-snake-py"
  },
  "language_info": {
   "codemirror_mode": {
    "name": "ipython",
    "version": 3
   },
   "file_extension": ".py",
   "mimetype": "text/x-python",
   "name": "python",
   "nbconvert_exporter": "python",
   "pygments_lexer": "ipython3",
   "version": "3.7.5"
  }
 },
 "nbformat": 4,
 "nbformat_minor": 2
}
